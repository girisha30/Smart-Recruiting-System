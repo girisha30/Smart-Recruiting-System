{
 "cells": [
  {
   "cell_type": "code",
   "execution_count": null,
   "id": "b5794370",
   "metadata": {},
   "outputs": [],
   "source": [
    "PKL_VECTOR = \"model/resume_vector.pkl\"\n",
    "PKL_MODEL = \"model/resume_classifier.pkl\"\n",
    "\n",
    "FILTER_PATH = \"output/\"\n",
    "CVPATH = \"youCVlocation/\"\n",
    "LOG_PATH = \"logs/\"\n",
    "EXTRACT_PATH = \"zipextract/\"\n",
    "exclude_list = ('appoinment letter', 'offer letter', 'compensation', 'salary statement', 'resignation letter')"
   ]
  }
 ],
 "metadata": {
  "kernelspec": {
   "display_name": "Python 3",
   "language": "python",
   "name": "python3"
  },
  "language_info": {
   "codemirror_mode": {
    "name": "ipython",
    "version": 3
   },
   "file_extension": ".py",
   "mimetype": "text/x-python",
   "name": "python",
   "nbconvert_exporter": "python",
   "pygments_lexer": "ipython3",
   "version": "3.8.8"
  }
 },
 "nbformat": 4,
 "nbformat_minor": 5
}
