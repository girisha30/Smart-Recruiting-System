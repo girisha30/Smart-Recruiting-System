{
 "cells": [
  {
   "cell_type": "code",
   "execution_count": 1,
   "id": "4fceb6ef",
   "metadata": {},
   "outputs": [],
   "source": [
    "import spacy\n",
    "import Distill\n",
    "\n",
    "try:\n",
    "    nlp = spacy.load('en_core_web_sm')\n",
    "\n",
    "except ImportError:\n",
    "    print(\"Spacy's English Language Modules aren't present \\n Install them by doing \\n python -m spacy download en_core_web_sm\")\n",
    "\n",
    "\n",
    "def _base_clean(text):\n",
    "    \"\"\"\n",
    "    Takes in text read by the parser file and then does the text cleaning.\n",
    "    \"\"\"\n",
    "    text = Distill.tokenize(text)\n",
    "    text = Distill.remove_stopwords(text)\n",
    "    text = Distill.remove_tags(text)\n",
    "    text = Distill.lemmatize(text)\n",
    "    return text\n",
    "\n",
    "\n",
    "def _reduce_redundancy(text):\n",
    "    \"\"\"\n",
    "    Takes in text that has been cleaned by the _base_clean and uses set to reduce the repeating words\n",
    "    giving only a single word that is needed.\n",
    "    \"\"\"\n",
    "    return list(set(text))\n",
    "\n",
    "\n",
    "def _get_target_words(text):\n",
    "    \"\"\"\n",
    "    Takes in text and uses Spacy Tags on it, to extract the relevant Noun, Proper Noun words that contain words related to tech and JD. \n",
    "    \"\"\"\n",
    "    target = []\n",
    "    sent = \" \".join(text)\n",
    "    doc = nlp(sent)\n",
    "    for token in doc:\n",
    "        if token.tag_ in ['NN', 'NNP']:\n",
    "            target.append(token.text)\n",
    "    return target\n",
    "\n",
    "\n",
    "# https://towardsdatascience.com/overview-of-text-similarity-metrics-3397c4601f50\n",
    "# https://towardsdatascience.com/the-best-document-similarity-algorithm-in-2020-a-beginners-guide-a01b9ef8cf05\n",
    "\n",
    "def Cleaner(text):\n",
    "    sentence = []\n",
    "    sentence_cleaned = _base_clean(text)\n",
    "    sentence.append(sentence_cleaned)\n",
    "    sentence_reduced = _reduce_redundancy(sentence_cleaned)\n",
    "    sentence.append(sentence_reduced)\n",
    "    sentence_targetted = _get_target_words(sentence_reduced)\n",
    "    sentence.append(sentence_targetted)\n",
    "    return sentence"
   ]
  },
  {
   "cell_type": "code",
   "execution_count": null,
   "id": "5143a2ae",
   "metadata": {},
   "outputs": [],
   "source": []
  }
 ],
 "metadata": {
  "kernelspec": {
   "display_name": "Python 3",
   "language": "python",
   "name": "python3"
  },
  "language_info": {
   "codemirror_mode": {
    "name": "ipython",
    "version": 3
   },
   "file_extension": ".py",
   "mimetype": "text/x-python",
   "name": "python",
   "nbconvert_exporter": "python",
   "pygments_lexer": "ipython3",
   "version": "3.8.8"
  }
 },
 "nbformat": 4,
 "nbformat_minor": 5
}
