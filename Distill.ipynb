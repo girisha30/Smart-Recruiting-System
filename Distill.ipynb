{
 "cells": [
  {
   "cell_type": "code",
   "execution_count": 1,
   "id": "efb82abc",
   "metadata": {},
   "outputs": [],
   "source": [
    "import nltk\n",
    "import spacy\n",
    "import re\n",
    "\n",
    "from nltk.tokenize import word_tokenize, sent_tokenize\n",
    "from nltk.corpus import stopwords\n",
    "\n",
    "# Define english stopwords\n",
    "stop_words = stopwords.words('english')\n",
    "\n",
    "# load the spacy module and create a nlp object\n",
    "# This need the spacy en module to be present on the system.\n",
    "nlp = spacy.load('en_core_web_sm')\n",
    "# proces to remove stopwords form a file, takes an optional_word list\n",
    "# for the words that are not present in the stop words but the user wants them deleted.\n",
    "\n",
    "\n",
    "def remove_stopwords(text, stopwords=stop_words, optional_params=False, optional_words=[]):\n",
    "    if optional_params:\n",
    "        stopwords.append([a for a in optional_words])\n",
    "    return [word for word in text if word not in stopwords]\n",
    "\n",
    "\n",
    "def tokenize(text):\n",
    "    # Removes any useless punctuations from the text\n",
    "    text = re.sub(r'[^\\w\\s]', '', text)\n",
    "    return word_tokenize(text)\n",
    "\n",
    "\n",
    "def lemmatize(text):\n",
    "    # the input to this function is a list\n",
    "    str_text = nlp(\" \".join(text))\n",
    "    lemmatized_text = []\n",
    "    for word in str_text:\n",
    "        lemmatized_text.append(word.lemma_)\n",
    "    return lemmatized_text\n",
    "\n",
    "# internal fuction, useless right now.\n",
    "\n",
    "\n",
    "def _to_string(List):\n",
    "    # the input parameter must be a list\n",
    "    string = \" \"\n",
    "    return string.join(List)\n",
    "\n",
    "\n",
    "def remove_tags(text, postags=['PROPN', 'NOUN', 'ADJ', 'VERB', 'ADV']):\n",
    "    \"\"\"\n",
    "    Takes in Tags which are allowed by the user and then elimnates the rest of the words\n",
    "    based on their Part of Speech (POS) Tags.\n",
    "    \"\"\"\n",
    "    filtered = []\n",
    "    str_text = nlp(\" \".join(text))\n",
    "    for token in str_text:\n",
    "        if token.pos_ in postags:\n",
    "            filtered.append(token.text)\n",
    "    return filtered"
   ]
  },
  {
   "cell_type": "code",
   "execution_count": null,
   "id": "ffb9d544",
   "metadata": {},
   "outputs": [],
   "source": []
  }
 ],
 "metadata": {
  "kernelspec": {
   "display_name": "Python 3",
   "language": "python",
   "name": "python3"
  },
  "language_info": {
   "codemirror_mode": {
    "name": "ipython",
    "version": 3
   },
   "file_extension": ".py",
   "mimetype": "text/x-python",
   "name": "python",
   "nbconvert_exporter": "python",
   "pygments_lexer": "ipython3",
   "version": "3.8.8"
  }
 },
 "nbformat": 4,
 "nbformat_minor": 5
}
